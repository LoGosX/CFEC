{
 "cells": [
  {
   "cell_type": "markdown",
   "id": "d2d33e4c",
   "metadata": {},
   "source": [
    "# x to przykladowy dataset, Exp to przykladowy explainer"
   ]
  },
  {
   "cell_type": "code",
   "execution_count": 1,
   "id": "26927544",
   "metadata": {},
   "outputs": [],
   "source": [
    "import tensorflow as tf\n",
    "from tensorflow import keras\n",
    "import sklearn.neighbors\n",
    "import numpy as np\n",
    "import pandas as pd\n",
    "# pd.set_option(\"display.max_rows\", None)"
   ]
  },
  {
   "cell_type": "code",
   "execution_count": 2,
   "id": "e53baee0",
   "metadata": {},
   "outputs": [],
   "source": [
    "from data import GermanData, AdultData\n",
    "\n",
    "german_data = GermanData('data/datasets/input_german.csv', 'data/datasets/labels_german.csv')\n",
    "adult_data = AdultData('data/datasets/adult.csv')\n",
    "german_model = keras.models.load_model('models/model_german')\n",
    "adult_model = keras.models.load_model('models/model_adult')"
   ]
  },
  {
   "cell_type": "code",
   "execution_count": 3,
   "id": "126806d7",
   "metadata": {},
   "outputs": [
    {
     "name": "stdout",
     "output_type": "stream",
     "text": [
      "Model: \"sequential\"\n",
      "_________________________________________________________________\n",
      " Layer (type)                Output Shape              Param #   \n",
      "=================================================================\n",
      " dense (Dense)               (None, 2)                 124       \n",
      "                                                                 \n",
      "=================================================================\n",
      "Total params: 124\n",
      "Trainable params: 124\n",
      "Non-trainable params: 0\n",
      "_________________________________________________________________\n"
     ]
    }
   ],
   "source": [
    "german_model.summary()"
   ]
  },
  {
   "cell_type": "code",
   "execution_count": 4,
   "id": "f6a53aba",
   "metadata": {},
   "outputs": [
    {
     "name": "stdout",
     "output_type": "stream",
     "text": [
      "Model: \"sequential_10\"\n",
      "_________________________________________________________________\n",
      " Layer (type)                Output Shape              Param #   \n",
      "=================================================================\n",
      " dense_20 (Dense)            (None, 1)                 38        \n",
      "                                                                 \n",
      " dense_21 (Dense)            (None, 2)                 4         \n",
      "                                                                 \n",
      "=================================================================\n",
      "Total params: 42\n",
      "Trainable params: 42\n",
      "Non-trainable params: 0\n",
      "_________________________________________________________________\n"
     ]
    }
   ],
   "source": [
    "adult_model.summary()"
   ]
  },
  {
   "cell_type": "code",
   "execution_count": 5,
   "id": "b9f8d74c",
   "metadata": {},
   "outputs": [],
   "source": [
    "def alpha_metric(explainer, x: pd.DataFrame, dataset: pd.DataFrame) -> float:\n",
    "    x_columns = x.columns\n",
    "    cf_x = explainer.generate(x)\n",
    "    if cf_x is None:\n",
    "        return float(\"nan\")\n",
    "    x = x.to_numpy()\n",
    "    dataset = dataset.to_numpy()\n",
    "    knn = sklearn.neighbors.KNeighborsClassifier(2)\n",
    "    knn.fit(dataset, np.ones_like(dataset))\n",
    "    _, ids = knn.kneighbors(x)\n",
    "    neighboring_original = dataset[np.squeeze(ids)[1]]\n",
    "    neighboring_original = pd.DataFrame(neighboring_original, x_columns).T\n",
    "    cf_neighbor = explainer.generate(neighboring_original)\n",
    "    if cf_neighbor is None:\n",
    "        return float(\"nan\")\n",
    "    return np.linalg.norm(cf_x.to_numpy() - cf_neighbor.to_numpy()) / cf_x.to_numpy().size"
   ]
  },
  {
   "cell_type": "code",
   "execution_count": 6,
   "id": "2325089f",
   "metadata": {},
   "outputs": [],
   "source": [
    "from tqdm import trange\n",
    "\n",
    "class ModelWrapper:\n",
    "    def __init__(self, model):\n",
    "        self.model = model\n",
    "\n",
    "    def generate(self, x: pd.DataFrame):\n",
    "        x = x.iloc[0]\n",
    "        x = self.model.generate(x)\n",
    "        return x"
   ]
  },
  {
   "cell_type": "code",
   "execution_count": 7,
   "id": "c9797b70",
   "metadata": {},
   "outputs": [],
   "source": [
    "# to jest beta metric\n",
    "def beta_metric(explainer, x: pd.DataFrame) -> float:\n",
    "    cf = explainer.generate(x)\n",
    "    if cf is None:\n",
    "        return float(\"nan\")\n",
    "    cf = np.squeeze(cf.to_numpy())\n",
    "    x = np.squeeze(x.to_numpy())\n",
    "    return np.mean(~np.isclose(x, cf, atol=0.05))"
   ]
  },
  {
   "cell_type": "code",
   "execution_count": 8,
   "id": "d374e5eb",
   "metadata": {},
   "outputs": [],
   "source": [
    "def gamma_metric(explainer, x: pd.DataFrame, model) -> float:\n",
    "    cf = explainer.generate(x)\n",
    "    if cf is None:\n",
    "        return float(\"nan\")\n",
    "    label = model.predict(cf)\n",
    "    original_label = model.predict(x)\n",
    "    return not np.isclose(label, original_label)"
   ]
  },
  {
   "cell_type": "code",
   "execution_count": 9,
   "id": "fc4d9521",
   "metadata": {},
   "outputs": [],
   "source": [
    "# w pracy to jest δ - delta\n",
    "def delta_metric(explainer, x: pd.DataFrame) -> float:\n",
    "    cf = explainer.generate(x)\n",
    "    if cf is None:\n",
    "        return float(\"nan\")\n",
    "    cf = np.squeeze(cf.to_numpy())\n",
    "    x = np.squeeze(x.to_numpy())\n",
    "    return np.linalg.norm(x - cf) / x.size"
   ]
  },
  {
   "cell_type": "code",
   "execution_count": 10,
   "id": "193a6d97",
   "metadata": {},
   "outputs": [],
   "source": [
    "def is_able_to_generate_cf(explainer, x: pd.DataFrame):\n",
    "    cf = explainer.generate(x)\n",
    "    return cf is not None"
   ]
  },
  {
   "cell_type": "code",
   "execution_count": 11,
   "id": "a4495534",
   "metadata": {},
   "outputs": [
    {
     "name": "stdout",
     "output_type": "stream",
     "text": [
      "Adult constraints:\n",
      "OneHot(name='workclass', start_column=2, end_column=8)\n",
      "OneHot(name='martial.status', start_column=9, end_column=15)\n",
      "OneHot(name='occupation', start_column=16, end_column=29)\n",
      "OneHot(name='race', start_column=30, end_column=34)\n",
      "OneHot(name='sex', start_column=35, end_column=36)\n",
      "\n",
      "German constraints:\n",
      "OneHot(name='account_status', start_column=7, end_column=10)\n",
      "OneHot(name='credit_history', start_column=11, end_column=15)\n",
      "OneHot(name='purpose', start_column=16, end_column=25)\n",
      "OneHot(name='savings', start_column=26, end_column=30)\n",
      "OneHot(name='sex_status', start_column=31, end_column=34)\n",
      "OneHot(name='debtors', start_column=35, end_column=37)\n",
      "OneHot(name='property', start_column=38, end_column=41)\n",
      "OneHot(name='other_installment_plans', start_column=42, end_column=44)\n",
      "OneHot(name='housing', start_column=45, end_column=47)\n",
      "OneHot(name='job', start_column=48, end_column=51)\n",
      "OneHot(name='phone', start_column=52, end_column=53)\n",
      "OneHot(name='foreign', start_column=54, end_column=55)\n",
      "OneHot(name='employment', start_column=56, end_column=60)\n"
     ]
    }
   ],
   "source": [
    "from tqdm import trange\n",
    "\n",
    "print(\"Adult constraints:\")\n",
    "for c in adult_data.constraints:\n",
    "    print(c)\n",
    "print(\"\\nGerman constraints:\")\n",
    "for c in german_data.constraints:\n",
    "    print(c)\n",
    "\n",
    "def filter_nans(func):\n",
    "    def wrapper(*args, **kwargs):\n",
    "        return [\n",
    "            x for x in func(*args, **kwargs) if not np.isnan(x)\n",
    "        ]\n",
    "    return wrapper\n",
    "\n",
    "@filter_nans\n",
    "def generate_alphas(explainer, dataset, max_examples=200):\n",
    "        return [\n",
    "        alpha_metric(ModelWrapper(explainer), dataset.iloc[i].to_frame().T, dataset)\n",
    "        for i in trange(min(dataset.shape[0], max_examples))\n",
    "    ]\n",
    "\n",
    "@filter_nans\n",
    "def generate_betas(explainer, dataset, max_examples=200):\n",
    "    return [\n",
    "        beta_metric(ModelWrapper(explainer), dataset.iloc[i].to_frame().T)\n",
    "        for i in trange(min(dataset.shape[0], max_examples))\n",
    "    ]\n",
    "\n",
    "@filter_nans\n",
    "def generate_gammas(explainer, dataset, original_model, max_examples=200):\n",
    "    return [\n",
    "        gamma_metric(ModelWrapper(explainer), dataset.iloc[i].to_frame().T, original_model)\n",
    "        for i in trange(min(dataset.shape[0], max_examples))\n",
    "    ]\n",
    "\n",
    "@filter_nans\n",
    "def generate_deltas(explainer, dataset, max_examples=200):\n",
    "    return [\n",
    "        delta_metric(ModelWrapper(explainer), dataset.iloc[i].to_frame().T)\n",
    "        for i in trange(min(dataset.shape[0], max_examples))\n",
    "    ]\n",
    "\n",
    "\n",
    "def generate_is_able_to_generate_cf(explainer, dataset, max_samples=1_000):\n",
    "    return [\n",
    "        is_able_to_generate_cf(ModelWrapper(explainer), dataset.iloc[i].to_frame().T)\n",
    "        for i in trange(min(dataset.shape[0], max_samples))\n",
    "    ]"
   ]
  },
  {
   "cell_type": "code",
   "execution_count": 12,
   "id": "b37fb1be",
   "metadata": {},
   "outputs": [],
   "source": [
    "class ArgmaxModelWrapper:\n",
    "    def __init__(self, model):\n",
    "        self.model = model\n",
    "    def predict(self, x):\n",
    "        return np.argmax(self.model.predict(x), axis=-1)\n",
    "german_model_wrapped = ArgmaxModelWrapper(german_model)\n",
    "adult_model_wrapped = ArgmaxModelWrapper(adult_model)\n",
    "german_model_predictions = german_model_wrapped.predict(german_data.X_train)\n",
    "adult_model_predictions = adult_model_wrapped.predict(adult_data.X_train)\n",
    "adult_model_predictions = np.round(adult_model_predictions)"
   ]
  },
  {
   "cell_type": "markdown",
   "id": "fa9a4079",
   "metadata": {},
   "source": []
  },
  {
   "cell_type": "code",
   "execution_count": null,
   "id": "38ab3d7e",
   "metadata": {},
   "outputs": [],
   "source": [
    "from cfec.explainers import Fimap\n",
    "\n",
    "options = {'s_epochs':500, 'g_epochs':500}\n",
    "\n",
    "fimap_no_constraints_adult = Fimap(l1=0.01, l2=0.1)\n",
    "fimap_no_constraints_adult.fit(adult_data.X_train, adult_model_predictions, **options)"
   ]
  },
  {
   "cell_type": "code",
   "execution_count": null,
   "id": "f5b77aa1",
   "metadata": {},
   "outputs": [],
   "source": [
    "fimap_with_constraints_adult = Fimap(l1=0.01, l2=0.1, constraints=adult_data.constraints)\n",
    "fimap_with_constraints_adult.fit(adult_data.X_train, adult_model_predictions, **options)"
   ]
  },
  {
   "cell_type": "code",
   "execution_count": null,
   "id": "eaf604df",
   "metadata": {},
   "outputs": [],
   "source": [
    "fimap_no_constraints_german = Fimap(l1=0.01, l2=0.1)\n",
    "fimap_no_constraints_german.fit(german_data.X_train, german_model_predictions, **options)"
   ]
  },
  {
   "cell_type": "code",
   "execution_count": null,
   "id": "bde6f755",
   "metadata": {},
   "outputs": [],
   "source": [
    "fimap_with_constraints_german = Fimap(l1=0.01, l2=0.1, constraints=german_data.constraints)\n",
    "fimap_with_constraints_german.fit(german_data.X_train, german_model_predictions, **options)"
   ]
  },
  {
   "cell_type": "code",
   "execution_count": null,
   "id": "146e6d6b",
   "metadata": {},
   "outputs": [],
   "source": [
    "from cfec.explainers import Cadex\n",
    "cadex_no_constraints_adult = Cadex(adult_model)\n",
    "cadex_with_constraints_adult = Cadex(adult_model, constraints=adult_data.constraints)\n",
    "cadex_no_constraints_german = Cadex(german_model)\n",
    "cadex_with_constraints_german = Cadex(german_model, constraints=german_data.constraints)"
   ]
  },
  {
   "cell_type": "code",
   "execution_count": 13,
   "id": "af3114ee",
   "metadata": {},
   "outputs": [],
   "source": [
    "def generate_results(model, dataset, max_examples=200, original_model=None):\n",
    "    return [\n",
    "        generate_alphas(model, dataset, max_examples=max_examples),\n",
    "        generate_betas(model, dataset, max_examples=max_examples),\n",
    "        generate_gammas(model, dataset, original_model=original_model, max_examples=max_examples),\n",
    "        generate_deltas(model, dataset, max_examples=max_examples ),\n",
    "    ]\n",
    "\n",
    "adult_x_test = adult_data.X_test.sample(frac=1)\n",
    "german_x_test = german_data.X_test.sample(frac=1)"
   ]
  },
  {
   "cell_type": "code",
   "execution_count": null,
   "id": "23dc44ea",
   "metadata": {},
   "outputs": [],
   "source": [
    "fimap_no_constraints_adult_results = generate_results(fimap_no_constraints_adult, adult_x_test, original_model=adult_model_wrapped)"
   ]
  },
  {
   "cell_type": "code",
   "execution_count": null,
   "id": "34e5c018",
   "metadata": {},
   "outputs": [],
   "source": [
    "fimap_with_constraints_adult_results = generate_results(fimap_with_constraints_adult, adult_x_test, original_model=adult_model_wrapped)"
   ]
  },
  {
   "cell_type": "code",
   "execution_count": null,
   "id": "3b74dbb3",
   "metadata": {},
   "outputs": [],
   "source": [
    "fimap_no_constraints_german_results = generate_results(fimap_no_constraints_german, german_x_test, original_model=german_model_wrapped)"
   ]
  },
  {
   "cell_type": "code",
   "execution_count": null,
   "id": "cbfc2c0c",
   "metadata": {},
   "outputs": [],
   "source": [
    "fimap_with_constraints_german_results = generate_results(fimap_with_constraints_german, german_x_test, original_model=german_model_wrapped)"
   ]
  },
  {
   "cell_type": "code",
   "execution_count": null,
   "id": "247faebe",
   "metadata": {},
   "outputs": [],
   "source": [
    "cadex_no_constraints_adult_results = generate_results(cadex_no_constraints_adult, adult_data.X_test, original_model=adult_model_wrapped)"
   ]
  },
  {
   "cell_type": "code",
   "execution_count": null,
   "id": "4e3b9d53",
   "metadata": {},
   "outputs": [],
   "source": [
    "cadex_with_constraints_adult_results = generate_results(cadex_with_constraints_adult, adult_data.X_test, original_model=adult_model_wrapped)"
   ]
  },
  {
   "cell_type": "code",
   "execution_count": null,
   "id": "c6e1c36e",
   "metadata": {},
   "outputs": [],
   "source": [
    "cadex_no_constraints_german_results = generate_results(cadex_no_constraints_german, german_data.X_test, original_model=german_model_wrapped)"
   ]
  },
  {
   "cell_type": "code",
   "execution_count": null,
   "id": "b8b9fca4",
   "metadata": {},
   "outputs": [],
   "source": [
    "cadex_with_constraints_german_results = generate_results(cadex_with_constraints_german, german_data.X_test, original_model=german_model_wrapped)"
   ]
  },
  {
   "cell_type": "code",
   "execution_count": null,
   "id": "88f3b738",
   "metadata": {},
   "outputs": [],
   "source": []
  },
  {
   "cell_type": "code",
   "execution_count": null,
   "id": "7010c9bc",
   "metadata": {},
   "outputs": [],
   "source": []
  },
  {
   "cell_type": "code",
   "execution_count": null,
   "id": "7f47ba8d",
   "metadata": {},
   "outputs": [],
   "source": [
    "adult_data.X_train.columns, len(adult_data.X_train.columns), len(adult_data.constraints)"
   ]
  },
  {
   "cell_type": "code",
   "execution_count": null,
   "id": "fe0d4ec2",
   "metadata": {},
   "outputs": [],
   "source": [
    "for i in range(5):\n",
    "    x = adult_x_test.iloc[i]\n",
    "    cf1 = fimap_with_constraints_adult.generate(x)\n",
    "    cf2 = fimap_no_constraints_adult.generate(x)\n",
    "    print(np.linalg.norm(x.values - cf1.values))\n",
    "    print(np.linalg.norm(x.values - cf2.values))\n",
    "    print()"
   ]
  },
  {
   "cell_type": "code",
   "execution_count": null,
   "id": "a1bea5bc",
   "metadata": {},
   "outputs": [],
   "source": [
    "#fimap_no_constraints_adult_results[1] = generate_betas(fimap_no_constraints_adult, adult_x_test, 100)\n",
    "#fimap_with_constraints_adult_results[1] = generate_betas(fimap_with_constraints_adult, adult_x_test, 100)\n",
    "#fimap_no_constraints_german_results[1] = generate_betas(fimap_no_constraints_german, german_x_test, 100)\n",
    "#fimap_with_constraints_german_results[1] = generate_betas(fimap_with_constraints_german, german_x_test, 100)"
   ]
  },
  {
   "cell_type": "code",
   "execution_count": null,
   "id": "50dc62d1",
   "metadata": {},
   "outputs": [],
   "source": [
    "format_str = '{:.5f}'\n",
    "print(\" \".join(format_str.format(y) for y in [np.mean(x) for x in fimap_no_constraints_adult_results]))\n",
    "print(\" \".join(format_str.format(y) for y in [np.mean(x) for x in cadex_no_constraints_adult_results]))\n",
    "\n",
    "print(\" \".join(format_str.format(y) for y in [np.mean(x) for x in fimap_with_constraints_adult_results]))\n",
    "print(\" \".join(format_str.format(y) for y in [np.mean(x) for x in cadex_with_constraints_adult_results]))\n",
    "\n",
    "\n",
    "print(\" \".join(format_str.format(y) for y in [np.mean(x) for x in fimap_no_constraints_german_results]))\n",
    "print(\" \".join(format_str.format(y) for y in [np.mean(x) for x in cadex_no_constraints_german_results]))\n",
    "\n",
    "print(\" \".join(format_str.format(y) for y in [np.mean(x) for x in fimap_with_constraints_german_results]))\n",
    "print(\" \".join(format_str.format(y) for y in [np.mean(x) for x in cadex_with_constraints_german_results]))"
   ]
  },
  {
   "cell_type": "code",
   "execution_count": null,
   "id": "6f441a3b",
   "metadata": {},
   "outputs": [],
   "source": [
    "adult_sampled = pd.concat([adult_data.X_train, adult_data.X_test]).sample(frac=1)\n",
    "german_sampled = pd.concat([german_data.X_train, german_data.X_test]).sample(frac=1)\n",
    "is_able_to_generate_cf_no_constraints_adult_results = generate_is_able_to_generate_cf(cadex_no_constraints_adult, adult_sampled)\n",
    "is_able_to_generate_cf_with_constraints_adult_results = generate_is_able_to_generate_cf(cadex_with_constraints_adult, adult_sampled)\n",
    "is_able_to_generate_cf_no_constraints_german_results = generate_is_able_to_generate_cf(cadex_no_constraints_german, german_sampled)\n",
    "is_able_to_generate_cf_with_constraints_german_results = generate_is_able_to_generate_cf(cadex_with_constraints_german, german_sampled)"
   ]
  },
  {
   "cell_type": "code",
   "execution_count": null,
   "id": "ac93719d",
   "metadata": {},
   "outputs": [],
   "source": [
    "print(int(100 * np.mean(is_able_to_generate_cf_no_constraints_adult_results)))\n",
    "print(int(100 * np.mean(is_able_to_generate_cf_with_constraints_adult_results)))\n",
    "print(int(100 * np.mean(is_able_to_generate_cf_no_constraints_german_results)))\n",
    "print(int(100 * np.mean(is_able_to_generate_cf_with_constraints_german_results)))"
   ]
  },
  {
   "cell_type": "code",
   "execution_count": 14,
   "id": "40016086",
   "metadata": {},
   "outputs": [],
   "source": [
    "from cfec.constraints import OneHot, ValueMonotonicity, Freeze\n",
    "\n",
    "german_one_hot_constraints = [OneHot(\"account_status\", 7, 10), OneHot(\"credit_history\", 11, 15),\n",
    "                            OneHot(\"purpose\", 16, 25), OneHot(\"savings\", 26, 30), OneHot(\"sex_status\", 31, 34),\n",
    "                            OneHot(\"debtors\", 35, 37), OneHot(\"property\", 38, 41),\n",
    "                            OneHot(\"other_installment_plans\", 42, 44), OneHot(\"housing\", 45, 47), OneHot(\"job\", 48, 51),\n",
    "                            OneHot(\"phone\", 52, 53), OneHot(\"foreign\", 54, 55), OneHot(\"employment\", 56, 60)]\n",
    "\n",
    "german_additional_constraints = [\n",
    "        #Freeze(['credit']), \n",
    "        ValueMonotonicity(['age'], \"increasing\")\n",
    "    ]\n",
    "\n",
    "adult_one_hot_constraints = [\n",
    "            OneHot('workclass', 2, 8),\n",
    "            OneHot('martial.status', 9, 15),\n",
    "            OneHot('occupation', 16, 29),\n",
    "            OneHot('race', 30, 34),\n",
    "            OneHot('sex', 35, 36),\n",
    "        ]\n",
    "\n",
    "#['race', 'sex', 'native.country']\n",
    "adult_additional_constraints = [\n",
    "    Freeze(columns='race'),\n",
    "    Freeze(columns='sex'),\n",
    "    Freeze(columns='native.country'),\n",
    "    ValueMonotonicity(['age'], \"increasing\")\n",
    "]"
   ]
  },
  {
   "cell_type": "code",
   "execution_count": 16,
   "id": "93e94ca4",
   "metadata": {},
   "outputs": [
    {
     "name": "stderr",
     "output_type": "stream",
     "text": [
      "100%|██████████| 200/200 [01:15<00:00,  2.64it/s]\n",
      "100%|██████████| 200/200 [00:29<00:00,  6.69it/s]\n",
      "100%|██████████| 200/200 [00:48<00:00,  4.10it/s]\n",
      "100%|██████████| 200/200 [00:26<00:00,  7.59it/s]\n"
     ]
    },
    {
     "ename": "UnsupportedOperation",
     "evalue": "not writable",
     "output_type": "error",
     "traceback": [
      "\u001b[1;31m---------------------------------------------------------------------------\u001b[0m",
      "\u001b[1;31mUnsupportedOperation\u001b[0m                      Traceback (most recent call last)",
      "\u001b[1;32m~\\AppData\\Local\\Temp\\ipykernel_25260\\160002357.py\u001b[0m in \u001b[0;36m<module>\u001b[1;34m\u001b[0m\n\u001b[0;32m     21\u001b[0m             \u001b[0mcadex\u001b[0m \u001b[1;33m=\u001b[0m \u001b[0mCadex\u001b[0m\u001b[1;33m(\u001b[0m\u001b[0moriginal_model\u001b[0m\u001b[1;33m.\u001b[0m\u001b[0mmodel\u001b[0m\u001b[1;33m,\u001b[0m \u001b[0mconstraints\u001b[0m\u001b[1;33m=\u001b[0m\u001b[0mall_constraints\u001b[0m\u001b[1;33m)\u001b[0m\u001b[1;33m\u001b[0m\u001b[1;33m\u001b[0m\u001b[0m\n\u001b[0;32m     22\u001b[0m             \u001b[0mresults\u001b[0m \u001b[1;33m=\u001b[0m \u001b[0mgenerate_results\u001b[0m\u001b[1;33m(\u001b[0m\u001b[0mcadex\u001b[0m\u001b[1;33m,\u001b[0m \u001b[0mdataset\u001b[0m\u001b[1;33m.\u001b[0m\u001b[0mX_test\u001b[0m\u001b[1;33m,\u001b[0m \u001b[0moriginal_model\u001b[0m\u001b[1;33m=\u001b[0m\u001b[0moriginal_model\u001b[0m\u001b[1;33m)\u001b[0m\u001b[1;33m\u001b[0m\u001b[1;33m\u001b[0m\u001b[0m\n\u001b[1;32m---> 23\u001b[1;33m             \u001b[0mmyprint\u001b[0m\u001b[1;33m(\u001b[0m\u001b[0mall_constraints\u001b[0m\u001b[1;33m)\u001b[0m\u001b[1;33m\u001b[0m\u001b[1;33m\u001b[0m\u001b[0m\n\u001b[0m\u001b[0;32m     24\u001b[0m             \u001b[0mmyprint\u001b[0m\u001b[1;33m(\u001b[0m\u001b[0mint\u001b[0m\u001b[1;33m(\u001b[0m\u001b[1;36m100\u001b[0m \u001b[1;33m*\u001b[0m \u001b[0mnp\u001b[0m\u001b[1;33m.\u001b[0m\u001b[0mmean\u001b[0m\u001b[1;33m(\u001b[0m\u001b[0mresults\u001b[0m\u001b[1;33m)\u001b[0m\u001b[1;33m)\u001b[0m\u001b[1;33m)\u001b[0m\u001b[1;33m\u001b[0m\u001b[1;33m\u001b[0m\u001b[0m\n",
      "\u001b[1;31mUnsupportedOperation\u001b[0m: not writable"
     ]
    }
   ],
   "source": [
    "from itertools import chain, combinations\n",
    "from functools import partial\n",
    "from cfec.explainers import Cadex, Fimap\n",
    "\n",
    "def powerset(iterable):\n",
    "    \"powerset([1,2,3]) --> () (1,) (2,) (3,) (1,2) (1,3) (2,3) (1,2,3)\"\n",
    "    s = list(iterable)\n",
    "    return chain.from_iterable(combinations(s, r) for r in range(len(s)+1))\n",
    "\n",
    "\n",
    "with open('metryki_wyniki.txt', 'w+') as output_file:\n",
    "    myprint = partial(print, file=output_file)\n",
    "    for dataset, original_model, (constraints, additional_constraints) in zip((adult_data, german_data), (adult_model_wrapped, german_model_wrapped), \n",
    "            (\n",
    "                (adult_one_hot_constraints, adult_additional_constraints),\n",
    "                (german_one_hot_constraints, german_additional_constraints),\n",
    "            )\n",
    "        ):\n",
    "        for additional in powerset(additional_constraints):\n",
    "            all_constraints = [*constraints, *additional]\n",
    "            cadex = Cadex(original_model.model, constraints=all_constraints)\n",
    "            results = generate_results(cadex, dataset.X_test, original_model=original_model)\n",
    "            myprint(all_constraints)\n",
    "            myprint(int(100 * np.mean(results)))"
   ]
  },
  {
   "cell_type": "code",
   "execution_count": null,
   "id": "774b422d",
   "metadata": {},
   "outputs": [],
   "source": []
  }
 ],
 "metadata": {
  "kernelspec": {
   "display_name": "Python 3 (ipykernel)",
   "language": "python",
   "name": "python3"
  },
  "language_info": {
   "codemirror_mode": {
    "name": "ipython",
    "version": 3
   },
   "file_extension": ".py",
   "mimetype": "text/x-python",
   "name": "python",
   "nbconvert_exporter": "python",
   "pygments_lexer": "ipython3",
   "version": "3.7.9"
  }
 },
 "nbformat": 4,
 "nbformat_minor": 5
}
